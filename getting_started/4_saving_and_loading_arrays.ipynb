{
 "cells": [
  {
   "cell_type": "markdown",
   "metadata": {},
   "source": [
    "# **Saving and Loading Arrays in MLX**\n",
    "\n",
    "MLX provides multiple methods for **saving and loading arrays**, supporting different serialization formats. These formats allow efficient storage of single or multiple arrays, ensuring compatibility with various tools.\n",
    "\n",
    "---\n",
    "\n",
    "## **1. Serialization Formats**\n",
    "\n",
    "MLX supports the following formats for saving arrays:\n",
    "\n",
    "| **Format**        | **Extension**    | **Function**                   | **Usage**                        |\n",
    "|------------------|----------------|-------------------------------|---------------------------------|\n",
    "| NumPy           | `.npy`          | `save()`                      | Saves a single array           |\n",
    "| NumPy Archive   | `.npz`          | `savez()` / `savez_compressed()` | Saves multiple arrays           |\n",
    "| SafeTensors     | `.safetensors`   | `save_safetensors()`          | Saves multiple arrays with named keys |\n",
    "| GGUF            | `.gguf`          | `save_gguf()`                 | Saves multiple arrays |\n",
    "\n",
    "The `load()` function automatically detects the file format based on the extension.\n",
    "\n",
    "---\n",
    "\n",
    "## **2. Saving and Loading a Single Array**\n",
    "\n",
    "MLX allows saving a single array using the `save()` function. The `.npy` extension is added automatically if omitted.\n",
    "\n",
    "### **Saving a Single Array**\n",
    "1. Create an array.\n",
    "2. Save it using `save()`.\n",
    "\n"
   ]
  },
  {
   "cell_type": "code",
   "execution_count": 1,
   "metadata": {},
   "outputs": [],
   "source": [
    "import mlx.core as mx"
   ]
  },
  {
   "cell_type": "code",
   "execution_count": 2,
   "metadata": {},
   "outputs": [],
   "source": [
    "a = mx.array([1.0])\n",
    "mx.save(\"array\", a)  # Saves as \"array.npy\"\n"
   ]
  },
  {
   "cell_type": "markdown",
   "metadata": {},
   "source": [
    "\n",
    "### **Loading a Single Array**\n",
    "1. Load the saved array using `load()`.\n",
    "2. The function detects the format automatically.\n",
    "\n"
   ]
  },
  {
   "cell_type": "code",
   "execution_count": 3,
   "metadata": {},
   "outputs": [
    {
     "name": "stdout",
     "output_type": "stream",
     "text": [
      "Loaded array: array([1], dtype=float32)\n"
     ]
    }
   ],
   "source": [
    "loaded_a = mx.load(\"array.npy\")\n",
    "print(\"Loaded array:\", loaded_a)  # Output: [1.]\n"
   ]
  },
  {
   "cell_type": "markdown",
   "metadata": {},
   "source": [
    "\n",
    "---\n",
    "\n",
    "## **3. Saving and Loading Multiple Arrays**\n",
    "\n",
    "MLX allows storing multiple arrays in a single `.npz` file using `savez()`.\n",
    "\n",
    "### **Saving Multiple Arrays**\n",
    "1. Create two arrays.\n",
    "2. Save them together in an `.npz` file.\n",
    "\n"
   ]
  },
  {
   "cell_type": "code",
   "execution_count": 4,
   "metadata": {},
   "outputs": [],
   "source": [
    "a = mx.array([1.0])\n",
    "b = mx.array([2.0])\n",
    "\n",
    "mx.savez(\"arrays\", a, b=b)  # Saves as \"arrays.npz\"\n"
   ]
  },
  {
   "cell_type": "markdown",
   "metadata": {},
   "source": [
    "\n",
    "- If keyword names are **not provided**, MLX assigns default names like `arr_0`, `arr_1`.\n",
    "- Named arrays can be accessed easily after loading.\n",
    "\n",
    "### **Loading Multiple Arrays**\n"
   ]
  },
  {
   "cell_type": "code",
   "execution_count": 5,
   "metadata": {},
   "outputs": [
    {
     "name": "stdout",
     "output_type": "stream",
     "text": [
      "Loaded arrays: {'b': array([2], dtype=float32), 'arr_0': array([1], dtype=float32)}\n"
     ]
    }
   ],
   "source": [
    "loaded_data = mx.load(\"arrays.npz\")\n",
    "\n",
    "print(\"Loaded arrays:\", loaded_data)\n"
   ]
  },
  {
   "cell_type": "markdown",
   "metadata": {},
   "source": [
    "- The result is a dictionary where each array is stored with a key.\n",
    "- The array `b` retains its name, while `a` is named `arr_0` by default.\n",
    "\n",
    "---\n",
    "\n",
    "## **4. Saving and Loading Using SafeTensors**\n",
    "\n",
    "The SafeTensors format is designed for **efficient storage of large tensors**, ensuring safe memory mapping without unnecessary copies.\n",
    "\n",
    "### **Saving with SafeTensors**\n",
    "1. Create multiple arrays.\n",
    "2. Save them using `save_safetensors()`.\n",
    "\n"
   ]
  },
  {
   "cell_type": "code",
   "execution_count": 6,
   "metadata": {},
   "outputs": [],
   "source": [
    "a = mx.array([1.0])\n",
    "b = mx.array([2.0])\n",
    "\n",
    "mx.save_safetensors(\"arrays\", {\"a\": a, \"b\": b})\n"
   ]
  },
  {
   "cell_type": "markdown",
   "metadata": {},
   "source": [
    "\n",
    "- Unlike `savez()`, `save_safetensors()` **requires explicit names** in a dictionary format.\n",
    "\n",
    "---\n",
    "\n",
    "## **5. Saving and Loading Using GGUF**\n",
    "\n",
    "The GGUF format is optimized for **machine learning models** and is widely used for storing large parameter files.\n",
    "\n",
    "### **Saving with GGUF**\n",
    "1. Create arrays and store them in a GGUF file.\n",
    "2. Save them using `save_gguf()`.\n",
    "\n"
   ]
  },
  {
   "cell_type": "code",
   "execution_count": 7,
   "metadata": {},
   "outputs": [],
   "source": [
    "a = mx.array([1.0])\n",
    "b = mx.array([2.0])\n",
    "\n",
    "mx.save_gguf(\"arrays\", {\"a\": a, \"b\": b})\n"
   ]
  },
  {
   "cell_type": "markdown",
   "metadata": {},
   "source": [
    "\n",
    "---\n",
    "\n",
    "## **6. Summary of Saving and Loading Functions**\n",
    "\n",
    "| **Function**         | **Purpose**                                        | **Example Usage** |\n",
    "|---------------------|------------------------------------------------|------------------|\n",
    "| `save(filename, array)`  | Saves a single array as `.npy`               | `mx.save(\"array\", a)` |\n",
    "| `savez(filename, *arrays, **named_arrays)`  | Saves multiple arrays as `.npz` | `mx.savez(\"arrays\", a, b=b)` |\n",
    "| `save_safetensors(filename, dict)` | Saves multiple arrays in SafeTensors format | `mx.save_safetensors(\"arrays\", {\"a\": a, \"b\": b})` |\n",
    "| `save_gguf(filename, dict)` | Saves multiple arrays in GGUF format | `mx.save_gguf(\"arrays\", {\"a\": a, \"b\": b})` |\n",
    "| `load(filename)`    | Loads any supported format (`.npy`, `.npz`, `.safetensors`, `.gguf`) | `mx.load(\"arrays.npz\")` |\n",
    "\n",
    "---\n",
    "\n",
    "## **7. Key Takeaways**\n",
    "1. **MLX supports multiple serialization formats**, including NumPy-based `.npy` and `.npz`, as well as SafeTensors and GGUF.\n",
    "2. **The `save()` function automatically appends the correct file extension** if not specified.\n",
    "3. **`savez()` stores multiple arrays in a structured dictionary**, while `save_safetensors()` and `save_gguf()` require named dictionaries.\n",
    "4. **The `load()` function automatically detects the file type** based on its extension.\n",
    "\n",
    "This guide provides a complete overview of **saving and loading arrays in MLX**, ensuring efficient storage and retrieval of data for numerical and machine learning applications.\n"
   ]
  }
 ],
 "metadata": {
  "kernelspec": {
   "display_name": "venv",
   "language": "python",
   "name": "python3"
  },
  "language_info": {
   "codemirror_mode": {
    "name": "ipython",
    "version": 3
   },
   "file_extension": ".py",
   "mimetype": "text/x-python",
   "name": "python",
   "nbconvert_exporter": "python",
   "pygments_lexer": "ipython3",
   "version": "3.11.7"
  }
 },
 "nbformat": 4,
 "nbformat_minor": 2
}
