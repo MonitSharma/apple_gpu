{
 "cells": [
  {
   "cell_type": "markdown",
   "metadata": {},
   "source": [
    "# Saving and Loading Arrays\n",
    "\n",
    "MLX supports multiple array serialization format."
   ]
  },
  {
   "cell_type": "markdown",
   "metadata": {},
   "source": [
    "| Serialization Formats | Format      | Extension       | Function                 | Notes                  |\n",
    "|-----------------------|-------------|-----------------|--------------------------|------------------------|\n",
    "| NumPy                 | .npy        | save()          | Single arrays only       |                        |\n",
    "| NumPy archive         | .npz        | savez()         | Multiple arrays          |                        |\n",
    "| Safetensors           | .safetensors| save_safetensors()| Multiple arrays        |                        |\n",
    "| GGUF                  | .gguf       | save_gguf()     | Multiple arrays          |                        |\n"
   ]
  },
  {
   "cell_type": "markdown",
   "metadata": {},
   "source": [
    "The `load()` function will load any of the supported serialization formats. It determines the format from the extensions. The output of `load()` depends on the format.\n",
    "\n",
    "Here's an example of saving a single array to a file:"
   ]
  },
  {
   "cell_type": "code",
   "execution_count": 1,
   "metadata": {},
   "outputs": [],
   "source": [
    "import mlx.core as mx"
   ]
  },
  {
   "cell_type": "code",
   "execution_count": 5,
   "metadata": {},
   "outputs": [],
   "source": [
    "a = mx.array([1.0])\n",
    "mx.save(\"array\",a)"
   ]
  },
  {
   "cell_type": "markdown",
   "metadata": {},
   "source": [
    "The array `a` will be saved in the file `array.npy` (notice the extension is automatically added). Inclduing the extension is optional; if missing it will be added.\n",
    "\n",
    "You can load the array with:\n"
   ]
  },
  {
   "cell_type": "code",
   "execution_count": null,
   "metadata": {},
   "outputs": [],
   "source": [
    "mx.load('getting_started/array.npy',a)\n"
   ]
  },
  {
   "cell_type": "markdown",
   "metadata": {},
   "source": [
    "Here's an example of saving several arrays to a single file:"
   ]
  },
  {
   "cell_type": "code",
   "execution_count": 14,
   "metadata": {},
   "outputs": [],
   "source": [
    "a = mx.array([1.0])\n",
    "b = mx.array([2.0])\n",
    "\n",
    "mx.savez(\"arrays_mult\",a,b=b)"
   ]
  }
 ],
 "metadata": {
  "kernelspec": {
   "display_name": "venv",
   "language": "python",
   "name": "python3"
  },
  "language_info": {
   "codemirror_mode": {
    "name": "ipython",
    "version": 3
   },
   "file_extension": ".py",
   "mimetype": "text/x-python",
   "name": "python",
   "nbconvert_exporter": "python",
   "pygments_lexer": "ipython3",
   "version": "3.11.7"
  }
 },
 "nbformat": 4,
 "nbformat_minor": 2
}
