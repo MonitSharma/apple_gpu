{
 "cells": [
  {
   "cell_type": "markdown",
   "metadata": {},
   "source": [
    "# **Indexing Arrays in MLX**\n",
    "\n",
    "MLX follows NumPy-like indexing behavior, allowing **integer indexing, slicing, ellipsis (`...`), new axis insertion, and array-based indexing**. However, there are key differences, such as **lack of bounds checking** and **no support for boolean masks yet**.\n",
    "\n",
    "---\n",
    "\n",
    "## **1. Basic Indexing in MLX**\n",
    "\n",
    "MLX indexing works similarly to NumPy's `numpy.ndarray`, allowing integer-based indexing and slicing.\n",
    "\n",
    "### **Integer and Slice Indexing**\n",
    "- Index a **single element** using an integer.\n",
    "- Use **negative indexing** to access elements from the end.\n",
    "- Use **slicing** with `[start:stop:step]` format.\n"
   ]
  },
  {
   "cell_type": "code",
   "execution_count": 1,
   "metadata": {},
   "outputs": [
    {
     "name": "stdout",
     "output_type": "stream",
     "text": [
      "Original Array: array([0, 1, 2, ..., 7, 8, 9], dtype=int32)\n",
      "arr[3]: array(3, dtype=int32)\n",
      "arr[-2]: array(8, dtype=int32)\n",
      "arr[2:8:2]: array([2, 4, 6], dtype=int32)\n"
     ]
    }
   ],
   "source": [
    "import mlx.core as mx\n",
    "\n",
    "# Create a 1D array with values from 0 to 9\n",
    "arr = mx.arange(10)\n",
    "print(f\"Original Array: {arr}\")\n",
    "\n",
    "# Index a single element\n",
    "print(f\"arr[3]: {arr[3]}\")  # Access the 4th element (0-based index)\n",
    "\n",
    "# Negative indexing\n",
    "print(f\"arr[-2]: {arr[-2]}\")  # Second last element\n",
    "\n",
    "# Slicing with step\n",
    "print(f\"arr[2:8:2]: {arr[2:8:2]}\")  # Elements from index 2 to 8, skipping every second element\n"
   ]
  },
  {
   "cell_type": "markdown",
   "metadata": {},
   "source": [
    "## **2. Indexing Multi-Dimensional Arrays**\n",
    "\n",
    "MLX supports **multi-dimensional indexing**, including the **ellipsis (`...`)** to simplify selection.\n",
    "\n",
    "### **Multi-Dimensional Indexing**\n",
    "- You can index multi-dimensional arrays in MLX just like NumPy.\n",
    "- The **ellipsis (`...`)** replaces multiple `:` when selecting slices.\n"
   ]
  },
  {
   "cell_type": "code",
   "execution_count": 2,
   "metadata": {},
   "outputs": [
    {
     "name": "stdout",
     "output_type": "stream",
     "text": [
      "Original Array:\n",
      "array([[[0, 1],\n",
      "        [2, 3]],\n",
      "       [[4, 5],\n",
      "        [6, 7]]], dtype=int32)\n",
      "arr[:, :, 0]:\n",
      "array([[0, 2],\n",
      "       [4, 6]], dtype=int32)\n",
      "arr[..., 0]:\n",
      "array([[0, 2],\n",
      "       [4, 6]], dtype=int32)\n"
     ]
    }
   ],
   "source": [
    "# Create a 3D array\n",
    "arr = mx.arange(8).reshape(2, 2, 2)\n",
    "print(\"Original Array:\")\n",
    "print(arr)\n",
    "\n",
    "# Select all rows and columns, but only the first depth dimension\n",
    "print(\"arr[:, :, 0]:\")\n",
    "print(arr[:, :, 0])\n",
    "\n",
    "# Use ellipsis to achieve the same result\n",
    "print(\"arr[..., 0]:\")\n",
    "print(arr[..., 0])\n"
   ]
  },
  {
   "cell_type": "markdown",
   "metadata": {},
   "source": [
    "## **3. Adding a New Axis**\n",
    "\n",
    "You can add a new axis to an array by indexing with `None`. This increases the number of dimensions in an array.\n",
    "\n",
    "### **Expanding Dimensions**\n",
    "- Using `None` converts a one-dimensional array into a two-dimensional array with a shape of `[1, n]`.\n"
   ]
  },
  {
   "cell_type": "code",
   "execution_count": 3,
   "metadata": {},
   "outputs": [
    {
     "name": "stdout",
     "output_type": "stream",
     "text": [
      "Original shape: (8,)\n",
      "New shape: (1, 8)\n"
     ]
    }
   ],
   "source": [
    "arr = mx.arange(8)\n",
    "print(f\"Original shape: {arr.shape}\")  # [8]\n",
    "\n",
    "# Adding a new axis\n",
    "arr_new_axis = arr[None]\n",
    "print(f\"New shape: {arr_new_axis.shape}\")  # [1, 8]\n"
   ]
  },
  {
   "cell_type": "markdown",
   "metadata": {},
   "source": [
    "This method is useful for adding a batch dimension or converting a vector into a row matrix."
   ]
  },
  {
   "cell_type": "markdown",
   "metadata": {},
   "source": [
    "## **4. Indexing with Another Array**\n",
    "\n",
    "MLX allows advanced indexing, where one array is used to select values from another array.\n",
    "\n",
    "### **Array-Based Indexing**\n",
    "Instead of selecting elements using individual integers, an array of indices can be used to retrieve multiple values at once.\n",
    "\n",
    "#### **Example: Selecting Elements with an Index Array**\n",
    "1. Create an array from 0 to 9.\n",
    "2. Use an index array to select specific elements.\n",
    "\n"
   ]
  },
  {
   "cell_type": "code",
   "execution_count": 4,
   "metadata": {},
   "outputs": [
    {
     "name": "stdout",
     "output_type": "stream",
     "text": [
      "Selected values: array([5, 7], dtype=int32)\n"
     ]
    }
   ],
   "source": [
    "arr = mx.arange(10)  # Array: [0, 1, 2, ..., 9]\n",
    "idx = mx.array([5, 7])  # Index positions\n",
    "print(f\"Selected values: {arr[idx]}\")  # Select elements at index 5 and 7\n"
   ]
  },
  {
   "cell_type": "markdown",
   "metadata": {},
   "source": [
    "\n",
    "This method is useful when selecting multiple values dynamically based on predefined indices.\n",
    "\n",
    "---\n",
    "\n",
    "## **5. Useful Functions for Indexing**\n",
    "\n",
    "MLX provides additional functions for working with array indices.\n",
    "\n",
    "### **Using the `take()` Function**\n",
    "The `take()` function allows selecting elements at specific indices.\n",
    "\n",
    "#### **Example: Selecting Elements Using `take()`**\n",
    "1. Create an array of five elements.\n",
    "2. Use `take()` to select values at specific indices.\n",
    "\n"
   ]
  },
  {
   "cell_type": "code",
   "execution_count": 5,
   "metadata": {},
   "outputs": [
    {
     "name": "stdout",
     "output_type": "stream",
     "text": [
      "Selected elements: array([30, 50], dtype=int32)\n"
     ]
    }
   ],
   "source": [
    "arr = mx.array([10, 20, 30, 40, 50])\n",
    "idx = mx.array([2, 4])\n",
    "selected = mx.take(arr, idx)\n",
    "print(f\"Selected elements: {selected}\")\n"
   ]
  },
  {
   "cell_type": "markdown",
   "metadata": {},
   "source": [
    "\n",
    "### **Using the `take_along_axis()` Function**\n",
    "The `take_along_axis()` function selects elements along a specific axis, which is useful for multi-dimensional arrays.\n",
    "\n",
    "---\n",
    "\n",
    "## **6. Differences from NumPy**\n",
    "\n",
    "MLX indexing is similar to NumPy but has key differences.\n",
    "\n",
    "### **Key Differences**\n",
    "1. **No Bounds Checking**\n",
    "   - In NumPy, indexing out of bounds raises an error, but in MLX, the behavior is undefined.\n",
    "   - There are no automatic checks to prevent accessing elements outside the valid range.\n",
    "\n",
    "2. **No Boolean Mask Indexing Yet**\n",
    "   - MLX does not currently support selecting elements based on boolean conditions.\n",
    "   - Example of unsupported functionality:\n",
    "   \n",
    "```python\n",
    "         arr[arr>5] # not supported in MLX\n",
    "```\n",
    "\n",
    "3. **Limited Support for Operations That Change Shape**\n",
    "- MLX does not yet support functions like `numpy.nonzero()` or the single-input version of `numpy.where()`, as they dynamically determine the output shape.\n",
    "\n",
    "---\n",
    "\n",
    "## **7. In-Place Updates**\n",
    "\n",
    "MLX supports in-place updates, meaning that modifying an array's values will affect all references to it.\n",
    "\n",
    "### **Example: Modifying an Array in Place**\n",
    "1. Create an array with three elements.\n",
    "2. Modify one of the elements directly.\n",
    "\n"
   ]
  },
  {
   "cell_type": "code",
   "execution_count": 6,
   "metadata": {},
   "outputs": [
    {
     "name": "stdout",
     "output_type": "stream",
     "text": [
      "Modified Array: array([1, 2, 0], dtype=int32)\n"
     ]
    }
   ],
   "source": [
    "a = mx.array([1, 2, 3])\n",
    "a[2] = 0\n",
    "print(f\"Modified Array: {a}\")  # Updates the last element to 0\n"
   ]
  },
  {
   "cell_type": "markdown",
   "metadata": {},
   "source": [
    "\n",
    "### **Effect on References**\n",
    "If one array is assigned to another variable, modifying one will reflect in the other.\n",
    "\n"
   ]
  },
  {
   "cell_type": "code",
   "execution_count": 7,
   "metadata": {},
   "outputs": [
    {
     "name": "stdout",
     "output_type": "stream",
     "text": [
      "b: array([1, 2, 0], dtype=int32)\n",
      "a: array([1, 2, 0], dtype=int32)\n"
     ]
    }
   ],
   "source": [
    "a = mx.array([1, 2, 3])\n",
    "b = a  # b now refers to the same data as a\n",
    "b[2] = 0  # Modify b\n",
    "print(f\"b: {b}\")  # Shows updated values\n",
    "print(f\"a: {a}\")  # Also shows updated values (same reference)\n"
   ]
  },
  {
   "cell_type": "markdown",
   "metadata": {},
   "source": [
    "\n",
    "Since `a` and `b` share the same memory, changes made to one affect both.\n",
    "\n",
    "---\n",
    "\n",
    "## **8. Gradients with In-Place Updates**\n",
    "\n",
    "MLX supports automatic differentiation, even when using in-place updates.\n",
    "\n",
    "### **Computing Gradients with In-Place Updates**\n",
    "1. Define a function that modifies an array element.\n",
    "2. Compute the gradient of the function.\n",
    "\n"
   ]
  },
  {
   "cell_type": "code",
   "execution_count": 8,
   "metadata": {},
   "outputs": [
    {
     "name": "stdout",
     "output_type": "stream",
     "text": [
      "Gradient: array([1, 0, 1], dtype=float32)\n"
     ]
    }
   ],
   "source": [
    "def fun(x, idx):\n",
    "    x[idx] = 2.0\n",
    "    return x.sum()\n",
    "\n",
    "dfdx = mx.grad(fun)(mx.array([1.0, 2.0, 3.0]), mx.array([1]))\n",
    "print(f\"Gradient: {dfdx}\")\n"
   ]
  },
  {
   "cell_type": "markdown",
   "metadata": {},
   "source": [
    "\n",
    "### **Explanation**\n",
    "- The gradient is `1` everywhere except at the indexed position, where it is `0`.\n",
    "- This correctly represents that changing `x[idx]` does not affect the sum.\n",
    "\n",
    "---\n",
    "\n",
    "## **9. Summary**\n",
    "\n",
    "| Feature | MLX Support | Notes |\n",
    "|---------|------------|-------|\n",
    "| Integer Indexing | ✅ Yes | Works like NumPy |\n",
    "| Negative Indexing | ✅ Yes | Supports negative indices |\n",
    "| Slicing | ✅ Yes | `[start:stop:step]` format |\n",
    "| Multi-Dimensional Indexing | ✅ Yes | Supports `...` syntax |\n",
    "| Boolean Mask Indexing | ❌ No | Not yet supported |\n",
    "| Indexing Out of Bounds | ❌ No | Undefined behavior |\n",
    "| In-Place Updates | ✅ Yes | Works like NumPy |\n",
    "| Gradient Computation with In-Place Updates | ✅ Yes | Correctly computes gradients |\n",
    "\n",
    "---\n",
    "\n",
    "## **Key Takeaways**\n",
    "1. MLX indexing is similar to NumPy but lacks bounds checking and boolean mask support.\n",
    "2. In-place updates affect all references, making memory management efficient.\n",
    "3. Gradients with in-place updates work correctly, marking modified indices as `0`.\n",
    "\n",
    "This guide covers **advanced indexing techniques in MLX**, including **multi-dimensional selection, array-based indexing, in-place updates, and gradient computation**. Let me know if you need further clarifications!\n"
   ]
  }
 ],
 "metadata": {
  "kernelspec": {
   "display_name": "venv",
   "language": "python",
   "name": "python3"
  },
  "language_info": {
   "codemirror_mode": {
    "name": "ipython",
    "version": 3
   },
   "file_extension": ".py",
   "mimetype": "text/x-python",
   "name": "python",
   "nbconvert_exporter": "python",
   "pygments_lexer": "ipython3",
   "version": "3.11.7"
  }
 },
 "nbformat": 4,
 "nbformat_minor": 2
}
