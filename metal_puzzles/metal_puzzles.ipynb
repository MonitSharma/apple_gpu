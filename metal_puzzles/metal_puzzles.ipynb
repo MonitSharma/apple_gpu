{
 "cells": [
  {
   "cell_type": "markdown",
   "metadata": {},
   "source": [
    "Learn Metal via Puzzles"
   ]
  },
  {
   "cell_type": "markdown",
   "metadata": {},
   "source": [
    "GPUs are crucial in performing advanced machine learning tasks as they can process data on a massively parallel scale. \n",
    "\n",
    "Check the metal documentation [here](https://ml-explore.github.io/mlx/build/html/dev/custom_metal_kernels.html) and more information [here](https://developer.apple.com/metal/Metal-Shading-Language-Specification.pdf)"
   ]
  },
  {
   "cell_type": "code",
   "execution_count": 2,
   "metadata": {},
   "outputs": [],
   "source": [
    "# check whether metal is installed or not\n",
    "import mlx.core as mx\n",
    "# and the helper file util\n",
    "from utils import MetalKernel, MetalProblem"
   ]
  },
  {
   "cell_type": "markdown",
   "metadata": {},
   "source": [
    "## Puzzle 1 : Map\n",
    "\n",
    "Implement a \"kernel\" that adds 10 to each position of the array `a` and stores it in the array `out`. You have 1 thread per position"
   ]
  },
  {
   "cell_type": "code",
   "execution_count": null,
   "metadata": {},
   "outputs": [],
   "source": []
  }
 ],
 "metadata": {
  "kernelspec": {
   "display_name": "venv",
   "language": "python",
   "name": "python3"
  },
  "language_info": {
   "codemirror_mode": {
    "name": "ipython",
    "version": 3
   },
   "file_extension": ".py",
   "mimetype": "text/x-python",
   "name": "python",
   "nbconvert_exporter": "python",
   "pygments_lexer": "ipython3",
   "version": "3.11.7"
  }
 },
 "nbformat": 4,
 "nbformat_minor": 2
}
